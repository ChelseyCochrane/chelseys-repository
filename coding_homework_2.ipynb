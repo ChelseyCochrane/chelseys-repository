{
  "nbformat": 4,
  "nbformat_minor": 0,
  "metadata": {
    "colab": {
      "provenance": [],
      "include_colab_link": true
    },
    "kernelspec": {
      "name": "python3",
      "display_name": "Python 3"
    },
    "language_info": {
      "name": "python"
    }
  },
  "cells": [
    {
      "cell_type": "markdown",
      "metadata": {
        "id": "view-in-github",
        "colab_type": "text"
      },
      "source": [
        "<a href=\"https://colab.research.google.com/github/ChelseyCochrane/chelseys-repository/blob/main/coding_homework_2.ipynb\" target=\"_parent\"><img src=\"https://colab.research.google.com/assets/colab-badge.svg\" alt=\"Open In Colab\"/></a>"
      ]
    },
    {
      "cell_type": "markdown",
      "source": [
        "# Coding Homework #2\n",
        "\n",
        "**Instructions:**\n",
        "\n",
        "1. Make a *Markdown Cell* that contains the following information:\n",
        "- Your name (small header)\n",
        "- The name of this class (italicized)\n",
        "- The date (bolded)\n",
        "\n",
        "2. Make a *Code Cell* that imports <code>numpy</code> as <code>np</code>, <code>matplotlib.pyplot</code> as <code>plt</code>, <code>statistics</code> as <code>st</code>.\n",
        "\n",
        "3. Make a *Code Cell* that imports your <code>v_rest1.csv</code> and <code>v_rest2.csv</code> files as <code>numpy</code> arrays called <code>v_rest1</code> and <code>v_rest2</code> respectively. You're used to doing this with the <code>pd.read_csv</code> function for <code>pandas</code>, but can accomplish the same thing using the <code>np.loadtxt</code> function for <code>numpy</code>.\n",
        "\n",
        "4. Make a *Code Cell* that concatenates <code>v_rest1</code> and <code>v_rest2</code> into a matrix with 2 rows and 13 columns named <code>v_rest</code>.\n",
        "\n",
        "5. Make a *Code Cell* that prints the <code>size</code> of <code>v_rest</code>.\n",
        "\n",
        "6. Make a *Code Cell* that returns the first row of <code>v_rest</code>.\n",
        "\n",
        "7. Make a *Code Cell* that returns the sum of the values in the third column of <code>v_rest</code>. You can accomplish this by using <code>v_rest[].sum()</code>, with your index inside of the brackets. As an example, if I wanted to return the sum of the first row of <code>v_rest</code>, I could use <code>v_rest[0].sum()</code> to get my answer.\n",
        "\n",
        "8. Make a *Code Cell* that returns the second-to-last value in the second row of <code>v_rest</code> (use negative indexing for the column value).\n",
        "\n",
        "9. Create a *Code Cell* that makes a histogram of the values in the first row of <code>v_rest</code> (you can do this by using the <code>plt.hist()</code> function). Label your axes.\n",
        "\n",
        "10. Create a *Code Cell* that takes the mean of the values in the first row of <code>v_rest</code>, and assigns the mean to a variable called <code>v_rest_mean_1</code>. Do the same thing for the second row of <code>v_rest</code>, and assign the mean value of the second row to a variable called <code>v_rest_mean_2</code>. You can get the means by using the <code>st.mean()</code> function (remember to put what you want the mean *of* inside the parentheses of the function).\n",
        "\n",
        "11. Create a *Markdown Cell* that describes the difference in means between the two rows. Which one is bigger?\n",
        "\n",
        "12. How can we test whether the difference in means is *meaningful* (statistically significant)? When we're comparing two means, we can use a t-test (assuming the data are normally distributed). To use a t-test on our data, we will first need to import the <code>scipy</code> package. Create a new *Code Cell* that runs the following:\n",
        "\n",
        "<code>\n",
        "import scipy.stats as stats\n",
        "</code>\n",
        "\n",
        "13. Now, we can perform a t-test on the two rows of <code>v_rest</code>. To do this, create a new *Code Cell* that uses the <code>stats.ttest_ind()</code> function - for example:\n",
        "\n",
        "<code>\n",
        "stats.ttest_ind(row1, row2)\n",
        "</code>\n",
        "\n",
        "Replace <code>row1</code> and <code>row2</code> in this case with the first and second rows, respectively, of <code>v_rest</code>.\n",
        "\n",
        "14. Make a *Markdown Cell* that describes the results of your t-test. You should have <code>statistic</code> variable and a <code>pvalue</code> variable. The way to interpret your p-value is as a probability - specifically, the probability that the mean of one distribution could be found in the second distribution. Typically, results are considered to be \"statistically significant\" if the probability is lower than 5% - or 0.05. What is your p-value? Based on this p-value, do you think it is likely that the means are significantly different, or do you think it is likely that they are not?\n",
        "\n",
        "15. Make sure to add at least one line with a <code>#</code> in front of it to each *Code Cell* to describe what each cell does.\n",
        "\n",
        "16. Save a copy of this notebook to your GitHub repo with the title \"coding_homework_2.ipynb\"."
      ],
      "metadata": {
        "id": "CXEcCBSA_prs"
      }
    },
    {
      "cell_type": "markdown",
      "source": [
        "#Chelsey Cochrane \n",
        "*Intro to Data Analysis* \n",
        "\n",
        "**2/21/23**"
      ],
      "metadata": {
        "id": "_51C55I5LS_1"
      }
    },
    {
      "cell_type": "code",
      "source": [
        "# importing numpy as np, matplotlib.pyplot as plt, statistics as st\n",
        "from matplotlib import pyplot as plt\n",
        "\n",
        "import statistics as st\n",
        "\n",
        "import numpy as np"
      ],
      "metadata": {
        "id": "m49Bvse1LtsZ"
      },
      "execution_count": 6,
      "outputs": []
    },
    {
      "cell_type": "code",
      "source": [
        "# turning v_rest 1 into v_rest1\n",
        "url1 = 'https://raw.githubusercontent.com/ChelseyCochrane/chelseys-repository/main/vrest_1.csv'\n",
        "v_rest1 = np.loadtxt(url1)"
      ],
      "metadata": {
        "id": "m4HhXdX2MyP3"
      },
      "execution_count": 7,
      "outputs": []
    },
    {
      "cell_type": "code",
      "source": [
        "# turning v_rest 1 into v_rest2\n",
        "url2 = 'https://raw.githubusercontent.com/ChelseyCochrane/chelseys-repository/main/vrest_2.csv'\n",
        "v_rest2 = np.loadtxt(url2)"
      ],
      "metadata": {
        "id": "-MCZvpqcNY2U"
      },
      "execution_count": 8,
      "outputs": []
    },
    {
      "cell_type": "code",
      "source": [
        "# concatenating v_rest1 and v_rest2 into a matrix with 2 rows and 13 columns named v_rest\n",
        "v_rest=np.array([v_rest1,v_rest2])\n",
        "print(v_rest)"
      ],
      "metadata": {
        "id": "BEE4vMzHWK7w",
        "outputId": "feecc152-df2c-4529-f58c-93f66f3d674e",
        "colab": {
          "base_uri": "https://localhost:8080/"
        }
      },
      "execution_count": 9,
      "outputs": [
        {
          "output_type": "stream",
          "name": "stdout",
          "text": [
            "[[-66.44580587 -77.65863705 -75.20915451 -78.21231842 -77.52663269\n",
            "  -75.55362216 -69.02811356 -73.838935   -73.77071034 -65.11337835\n",
            "  -73.08940964 -65.72109046 -74.13655006]\n",
            " [-61.88216909 -63.18380907 -72.46682231 -76.15782261 -71.39769363\n",
            "  -71.77527046 -82.22607751 -78.58990955 -67.51567459 -76.35990906\n",
            "  -62.21961975 -65.13868915 -74.17537371]]\n"
          ]
        }
      ]
    },
    {
      "cell_type": "code",
      "source": [
        "# printing the size of v_rest\n",
        "print(v_rest.shape)"
      ],
      "metadata": {
        "id": "OqdLuYjj80G9",
        "outputId": "93d9f4aa-136f-4fa7-f08f-1e89c195b532",
        "colab": {
          "base_uri": "https://localhost:8080/"
        }
      },
      "execution_count": 10,
      "outputs": [
        {
          "output_type": "stream",
          "name": "stdout",
          "text": [
            "(2, 13)\n"
          ]
        }
      ]
    },
    {
      "cell_type": "code",
      "source": [
        "# returning the first row of v_rest\n",
        "v_rest[0, :]"
      ],
      "metadata": {
        "id": "JZCJBHezDHXx",
        "outputId": "2f0aefe3-f412-4231-b56f-263e32b532e8",
        "colab": {
          "base_uri": "https://localhost:8080/"
        }
      },
      "execution_count": 11,
      "outputs": [
        {
          "output_type": "execute_result",
          "data": {
            "text/plain": [
              "array([-66.44580587, -77.65863705, -75.20915451, -78.21231842,\n",
              "       -77.52663269, -75.55362216, -69.02811356, -73.838935  ,\n",
              "       -73.77071034, -65.11337835, -73.08940964, -65.72109046,\n",
              "       -74.13655006])"
            ]
          },
          "metadata": {},
          "execution_count": 11
        }
      ]
    },
    {
      "cell_type": "code",
      "source": [
        "# returning the sum of the values in the third column of v_rest\n",
        "v_rest[:, 2].sum()"
      ],
      "metadata": {
        "id": "XkTXst2bGeLx",
        "outputId": "37eec770-b641-48a1-977b-9f8adbf6a3d7",
        "colab": {
          "base_uri": "https://localhost:8080/"
        }
      },
      "execution_count": 13,
      "outputs": [
        {
          "output_type": "execute_result",
          "data": {
            "text/plain": [
              "-147.67597682000002"
            ]
          },
          "metadata": {},
          "execution_count": 13
        }
      ]
    },
    {
      "cell_type": "code",
      "source": [
        "# returning the second-to-last value in the second row of v_rest\n",
        "v_rest[1, -2]"
      ],
      "metadata": {
        "id": "K42LguE3HWh9",
        "outputId": "95a5a838-2ca8-44f3-c89b-de7d3bd6e848",
        "colab": {
          "base_uri": "https://localhost:8080/"
        }
      },
      "execution_count": 14,
      "outputs": [
        {
          "output_type": "execute_result",
          "data": {
            "text/plain": [
              "-65.13868915"
            ]
          },
          "metadata": {},
          "execution_count": 14
        }
      ]
    },
    {
      "cell_type": "code",
      "source": [
        "# making a histogram of the values in the first row of v_rest\n",
        "plt.hist(v_rest[0, :])"
      ],
      "metadata": {
        "id": "Psm-y2xpHoXR",
        "outputId": "26ac0a1e-16da-4a43-b98d-e5e2f8f0780b",
        "colab": {
          "base_uri": "https://localhost:8080/",
          "height": 350
        }
      },
      "execution_count": 15,
      "outputs": [
        {
          "output_type": "execute_result",
          "data": {
            "text/plain": [
              "(array([3., 0., 2., 4., 0., 0., 0., 1., 1., 2.]),\n",
              " array([-78.21231842, -76.90242441, -75.59253041, -74.2826364 ,\n",
              "        -72.97274239, -71.66284839, -70.35295438, -69.04306037,\n",
              "        -67.73316636, -66.42327236, -65.11337835]),\n",
              " <a list of 10 Patch objects>)"
            ]
          },
          "metadata": {},
          "execution_count": 15
        },
        {
          "output_type": "display_data",
          "data": {
            "text/plain": [
              "<Figure size 432x288 with 1 Axes>"
            ],
            "image/png": "[encoded data removed]"
          },
          "metadata": {
            "needs_background": "light"
          }
        }
      ]
    },
    {
      "cell_type": "code",
      "source": [
        "# taking the mean of the values in the first row of v_rest\n",
        "v_rest_mean_1 = st.mean(v_rest[0, :])\n",
        "v_rest_mean_1"
      ],
      "metadata": {
        "id": "xIpC5RUMJZmf",
        "outputId": "b30e2064-c19e-4db2-c2da-4e2b4f968753",
        "colab": {
          "base_uri": "https://localhost:8080/"
        }
      },
      "execution_count": 17,
      "outputs": [
        {
          "output_type": "execute_result",
          "data": {
            "text/plain": [
              "-72.71571985461539"
            ]
          },
          "metadata": {},
          "execution_count": 17
        }
      ]
    },
    {
      "cell_type": "code",
      "source": [
        "# taking the mean of the values in the second row of v_rest\n",
        "v_rest_mean_2 = st.mean(v_rest[1, :])\n",
        "v_rest_mean_2"
      ],
      "metadata": {
        "id": "eKrSgE76Jtnb",
        "outputId": "38d1116c-e9b2-4532-eea8-1a6553126eb4",
        "colab": {
          "base_uri": "https://localhost:8080/"
        }
      },
      "execution_count": 18,
      "outputs": [
        {
          "output_type": "execute_result",
          "data": {
            "text/plain": [
              "-71.00683388384616"
            ]
          },
          "metadata": {},
          "execution_count": 18
        }
      ]
    },
    {
      "cell_type": "markdown",
      "source": [
        "The mean of data 2 is bigger because its less negative "
      ],
      "metadata": {
        "id": "7jSvOQVNJ1SF"
      }
    },
    {
      "cell_type": "code",
      "source": [
        "# importing the scipy package\n",
        "import scipy.stats as stats"
      ],
      "metadata": {
        "id": "4HGHbCYdJ7Mv"
      },
      "execution_count": 19,
      "outputs": []
    },
    {
      "cell_type": "code",
      "source": [
        "# performing a t-test on the two rows of v_rest\n",
        "row1 = v_rest[0, :]\n",
        "row2 = v_rest[1, :]\n",
        "stats.ttest_ind(row1, row2)"
      ],
      "metadata": {
        "id": "vuGcPccGKN5Q",
        "outputId": "57d6ddb0-c344-4992-f655-2b9c58747a6e",
        "colab": {
          "base_uri": "https://localhost:8080/"
        }
      },
      "execution_count": 22,
      "outputs": [
        {
          "output_type": "execute_result",
          "data": {
            "text/plain": [
              "Ttest_indResult(statistic=-0.766204563372023, pvalue=0.4510254700764462)"
            ]
          },
          "metadata": {},
          "execution_count": 22
        }
      ]
    },
    {
      "cell_type": "markdown",
      "source": [
        "The data is not statistically significant because the pvalue is way above 0.05. "
      ],
      "metadata": {
        "id": "gXP0LuQoMNSK"
      }
    }
  ]
}