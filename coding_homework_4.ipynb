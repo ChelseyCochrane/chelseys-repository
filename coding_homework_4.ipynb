{
  "nbformat": 4,
  "nbformat_minor": 0,
  "metadata": {
    "colab": {
      "provenance": [],
      "include_colab_link": true
    },
    "kernelspec": {
      "name": "python3",
      "display_name": "Python 3"
    },
    "language_info": {
      "name": "python"
    }
  },
  "cells": [
    {
      "cell_type": "markdown",
      "metadata": {
        "id": "view-in-github",
        "colab_type": "text"
      },
      "source": [
        "<a href=\"https://colab.research.google.com/github/ChelseyCochrane/chelseys-repository/blob/main/coding_homework_4.ipynb\" target=\"_parent\"><img src=\"https://colab.research.google.com/assets/colab-badge.svg\" alt=\"Open In Colab\"/></a>"
      ]
    },
    {
      "cell_type": "markdown",
      "source": [
        "# Coding Homework #4\n",
        "\n",
        "**Instructions**\n",
        "\n",
        "1. Make a *Markdown Cell* that contains the following information:\n",
        "- Your name (small header)\n",
        "- The name of this class (italicized)\n",
        "- The date (bolded)\n",
        "\n",
        "2. Create a *Code Cell* that imports relevant modules - specifically, <code>pandas as pd</code>, <code>matplotlib.pyplot as plt</code>, and <code>scipy.stats as stats</code>.\n",
        "\n",
        "3. For this assignment, you'll be using the <code>patch_seq_expanded.csv</code> file located in our class GitHub repo. Create a *Code Cell* that loads this file in as a <code>Pandas dataFrame</code> called <code>patch_seq</code>. \n",
        "\n",
        "4. In a new *Code Cell*, run the following line of code to get rid of empty values:\n",
        "\n",
        "<code>patch_seq['ISI'] = patch_seq['ISI'].fillna(0)</code>\n",
        "\n",
        "5. In a new *Code Cell*, using the <code>df.plot</code> method from the <code>pandas</code> module, make a bar graph that displays the value counts (how many observations) from the \"Marker\" column of your <code>patch_seq</code> variable. Label your x and y-axes.\n",
        "\n",
        "6. In a new *Code Cell*, repeat step 4, but make a pie chart instead of a bar graph.\n",
        "\n",
        "7. In a new *Code Cell*, use a <code>for</code> loop to make a scatter plot of the \"ISI\" (on the x-axis) and \"Fast_Trough\" (on the y-axis) values in your <code>patch_seq</code> dataframe. Your loop should make data points from \"Sst\" neurons <font color = 'red'>red</font>, and data points from \"Pvalb\" neurons <font color = 'blue'>blue</font>.\n",
        "\n",
        "8. In a new *Code Cell*, create a <code>function</code> called <code>patchScatter()</code> that will output the scatter plot created in step 6 when you call it. Don't forget to tell it to show your scatter plot!\n",
        "\n",
        "9. In a new *Code Cell*, return the mean, standard deviation, and range of the \"Fast_Trough\" column for \"Sst\" neurons and \"Pvalb\" neurons. You can do this with the <code>pandas</code> method <code>describe</code>, like so:\n",
        "\n",
        "<code>patch_seq.groupby('Marker')['Fast_Trough'].describe()</code>\n",
        "\n",
        "10. In a new *Markdown Cell*, describe the difference in means between \"Sst\" neurons and \"Pvalb\" neurons. Which group has a more negative undershoot following an action potential? \n",
        "\n",
        "11. In a new *Code Cell*, return the skewness of the \"Fast_Trough\" column for \"Sst\" neurons and \"Pvalb\" neurons. You can do this with the <code>pandas</code> method <code>skew</code> (follow the syntax in step 8 to apply this method to <code>patch_seq</code>).\n",
        "\n",
        "12. In a new *Markdown Cell*, interpret the results of your skewness test. Generally, values >0.5, or <-0.5, indicate a skewed distribution, while values between -0.5 and 0.5 indicate a normal distribution.\n",
        "\n",
        "13. In a new *Code Cell*, repeat step 10 for the \"ISI\" column of <code>patch_seq</code>. \n",
        "\n",
        "14. In a new *Markdown Cell*, repeat step 11 for the \"ISI\" column of <code>patch_seq</code>. \n",
        "\n",
        "15. Finally, in a new *Code Cell*, let's perform a t-test to see if our \"Fast_Trough\" and \"ISI\" values differ between \"Sst\" and \"Pvalb\" neurons. To do this for our \"Fast_Trough\" values, we should first isolate each group and make each of them into a separate variable. An example of how to do this for \"Sst\" neurons is below:\n",
        "\n",
        "<code>sst_neurons = patch_seq[patch_seq['Marker']=='Sst']</code>\n",
        "\n",
        "Use the same code to create another variable called <code>pvalb_neurons</code>. Once you've made your two variables, perform an independent-samples t-test to compare \"Fast_Trough\" values between the two groups:\n",
        "\n",
        "<code>stats.ttest_ind(sst_neurons['Fast_Trough'], pvalb_neurons['Fast_Trough'])</code>.\n",
        "\n",
        "16. In a *Markdown Cell*, describe the results of your t-test. Does the undershoot voltage significantly differ betwen the two groups?\n",
        "\n",
        "17. In a new *Code Cell*, repeat step 14 for \"ISI\". You won't need to create new <code>sst_neurons</code> and <code>pvalb_neurons</code> variables - you'll just need to run a new t-test. \n",
        "\n",
        "18. In a new *Markdown Cell*, repeat step 15 for the results of your new t-test.\n",
        "\n",
        "19. Make sure to put a <code>#</code> in each *Code Cell* to describe what it does.\n",
        "\n",
        "20. Save a copy of this notebook to your GitHub repo with the title <code>coding_homework_4.ipynb</code>.\n",
        "\n",
        "\n"
      ],
      "metadata": {
        "id": "t5mb_Iv37HhC"
      }
    },
    {
      "cell_type": "markdown",
      "source": [
        "##Chelsey Cochrane \n",
        "\n",
        "*Intro to data analysis* \n",
        "\n",
        "**03/22/23**"
      ],
      "metadata": {
        "id": "ZSHZEK1KpJ6v"
      }
    },
    {
      "cell_type": "code",
      "source": [
        "from matplotlib import pyplot as plt\n",
        "\n",
        "import scipy.stats as stats\n",
        "\n",
        "import pandas as pd"
      ],
      "metadata": {
        "id": "CiTFipgapV5p"
      },
      "execution_count": 1,
      "outputs": []
    },
    {
      "cell_type": "code",
      "source": [
        "df = 'https://raw.githubusercontent.com/hallockh/neur_265/main/patch_seq_expanded.csv'\n",
        "patch_seq = pd.read_csv(url1)"
      ],
      "metadata": {
        "id": "EsjdPRl_qFXU"
      },
      "execution_count": 7,
      "outputs": []
    },
    {
      "cell_type": "code",
      "source": [
        "patch_seq['ISI'] = patch_seq['ISI'].fillna(0)"
      ],
      "metadata": {
        "id": "Cduw8TQHqtA0"
      },
      "execution_count": 6,
      "outputs": []
    },
    {
      "cell_type": "code",
      "source": [
        "patch_seq['Marker'].value_counts().plot(kind = 'bar')\n",
        "plt.xlabel('Marker')\n",
        "plt.ylabel('value count')\n",
        "plt.show"
      ],
      "metadata": {
        "id": "29ffY6BVrRpk",
        "outputId": "7047c044-75c0-48e8-ce38-f95980bf7bed",
        "colab": {
          "base_uri": "https://localhost:8080/",
          "height": 313
        }
      },
      "execution_count": 19,
      "outputs": [
        {
          "output_type": "execute_result",
          "data": {
            "text/plain": [
              "<function matplotlib.pyplot.show(close=None, block=None)>"
            ]
          },
          "metadata": {},
          "execution_count": 19
        },
        {
          "output_type": "display_data",
          "data": {
            "text/plain": [
              "<Figure size 432x288 with 1 Axes>"
            ],
            "image/png": "[encoded data removed]"
          },
          "metadata": {
            "needs_background": "light"
          }
        }
      ]
    },
    {
      "cell_type": "code",
      "source": [
        "patch_seq['Marker'].value_counts().plot(kind = 'pie')\n",
        "plt.xlabel('Marker')\n",
        "plt.ylabel('value count')\n",
        "plt.show"
      ],
      "metadata": {
        "id": "QAzl40zkuCbM",
        "outputId": "bbb1ca48-81ba-4cb3-b7c5-eeb3eac36ce4",
        "colab": {
          "base_uri": "https://localhost:8080/",
          "height": 279
        }
      },
      "execution_count": 20,
      "outputs": [
        {
          "output_type": "execute_result",
          "data": {
            "text/plain": [
              "<function matplotlib.pyplot.show(close=None, block=None)>"
            ]
          },
          "metadata": {},
          "execution_count": 20
        },
        {
          "output_type": "display_data",
          "data": {
            "text/plain": [
              "<Figure size 432x288 with 1 Axes>"
            ],
            "image/png": "[encoded data removed]"
          },
          "metadata": {}
        }
      ]
    },
    {
      "cell_type": "code",
      "source": [
        "patch_length = len(patch_seq)\n",
        "\n",
        "for i in range(patch_length):\n",
        "  if patch_seq.iloc[i,2] == 'Sst':\n",
        "    plt.scatter(patch_seq.iloc[i,0],patch_seq.iloc[i,1],color = \"red\")\n",
        "  if patch_seq.iloc[i,2] == 'Pvalb':\n",
        "    plt.scatter(patch_seq.iloc[i,0],patch_seq.iloc[i,1],color = \"blue\")\n",
        "\n",
        "plt.xlabel('ISI')\n",
        "plt.ylabel('Fast_Trough')\n",
        "plt.show"
      ],
      "metadata": {
        "id": "cexNmJc4vAB4",
        "outputId": "372826c6-eb55-490a-87ef-709c34df2ff5",
        "colab": {
          "base_uri": "https://localhost:8080/",
          "height": 296
        }
      },
      "execution_count": 23,
      "outputs": [
        {
          "output_type": "execute_result",
          "data": {
            "text/plain": [
              "<function matplotlib.pyplot.show(close=None, block=None)>"
            ]
          },
          "metadata": {},
          "execution_count": 23
        },
        {
          "output_type": "display_data",
          "data": {
            "text/plain": [
              "<Figure size 432x288 with 1 Axes>"
            ],
            "image/png": "[encoded data removed]"
          },
          "metadata": {
            "needs_background": "light"
          }
        }
      ]
    },
    {
      "cell_type": "code",
      "source": [
        "def patchScatter(): \n",
        "  for i in range(patch_length):\n",
        "    if patch_seq.iloc[i,2] == 'Sst':\n",
        "      plt.scatter(patch_seq.iloc[i,0],patch_seq.iloc[i,1],color = \"red\")\n",
        "    if patch_seq.iloc[i,2] == 'Pvalb':\n",
        "      plt.scatter(patch_seq.iloc[i,0],patch_seq.iloc[i,1],color = \"blue\")\n",
        "\n",
        "  plt.xlabel('ISI')\n",
        "  plt.ylabel('Fast_Trough')\n",
        "  \n",
        "plt.show"
      ],
      "metadata": {
        "id": "jnmVvUArv4MA",
        "outputId": "ddc49410-2c5d-4a3c-bc01-a8f6464e2185",
        "colab": {
          "base_uri": "https://localhost:8080/"
        }
      },
      "execution_count": 26,
      "outputs": [
        {
          "output_type": "execute_result",
          "data": {
            "text/plain": [
              "<function matplotlib.pyplot.show(close=None, block=None)>"
            ]
          },
          "metadata": {},
          "execution_count": 26
        }
      ]
    },
    {
      "cell_type": "code",
      "source": [
        "patchScatter()"
      ],
      "metadata": {
        "id": "NkDV9JgLwuO4",
        "outputId": "9ff02f32-d9c9-4a28-cdc3-8840e20c62fe",
        "colab": {
          "base_uri": "https://localhost:8080/",
          "height": 279
        }
      },
      "execution_count": 27,
      "outputs": [
        {
          "output_type": "display_data",
          "data": {
            "text/plain": [
              "<Figure size 432x288 with 1 Axes>"
            ],
            "image/png": "[encoded data removed]"
          },
          "metadata": {
            "needs_background": "light"
          }
        }
      ]
    },
    {
      "cell_type": "code",
      "source": [
        "patch_seq.groupby('Marker')['Fast_Trough'].describe()"
      ],
      "metadata": {
        "id": "0NDAUJPqw56R",
        "outputId": "c56cb95b-58bd-4057-9762-7c474513c031",
        "colab": {
          "base_uri": "https://localhost:8080/",
          "height": 142
        }
      },
      "execution_count": 29,
      "outputs": [
        {
          "output_type": "execute_result",
          "data": {
            "text/plain": [
              "        count       mean       std        min        25%        50%  \\\n",
              "Marker                                                                \n",
              "Pvalb   256.0 -54.548074  5.870670 -76.687508 -57.914063 -54.490629   \n",
              "Sst     109.0 -52.514968  4.958103 -64.375008 -55.931252 -52.568752   \n",
              "\n",
              "              75%        max  \n",
              "Marker                        \n",
              "Pvalb  -51.364065 -30.406252  \n",
              "Sst    -48.500000 -40.781254  "
            ],
            "text/html": [
              "\n",
              "  <div id=\"df-d8cf48f2-6d0c-46ff-ab7c-46f99bc89ac4\">\n",
              "    <div class=\"colab-df-container\">\n",
              "      <div>\n",
              "<style scoped>\n",
              "    .dataframe tbody tr th:only-of-type {\n",
              "        vertical-align: middle;\n",
              "    }\n",
              "\n",
              "    .dataframe tbody tr th {\n",
              "        vertical-align: top;\n",
              "    }\n",
              "\n",
              "    .dataframe thead th {\n",
              "        text-align: right;\n",
              "    }\n",
              "</style>\n",
              "<table border=\"1\" class=\"dataframe\">\n",
              "  <thead>\n",
              "    <tr style=\"text-align: right;\">\n",
              "      <th></th>\n",
              "      <th>count</th>\n",
              "      <th>mean</th>\n",
              "      <th>std</th>\n",
              "      <th>min</th>\n",
              "      <th>25%</th>\n",
              "      <th>50%</th>\n",
              "      <th>75%</th>\n",
              "      <th>max</th>\n",
              "    </tr>\n",
              "    <tr>\n",
              "      <th>Marker</th>\n",
              "      <th></th>\n",
              "      <th></th>\n",
              "      <th></th>\n",
              "      <th></th>\n",
              "      <th></th>\n",
              "      <th></th>\n",
              "      <th></th>\n",
              "      <th></th>\n",
              "    </tr>\n",
              "  </thead>\n",
              "  <tbody>\n",
              "    <tr>\n",
              "      <th>Pvalb</th>\n",
              "      <td>256.0</td>\n",
              "      <td>-54.548074</td>\n",
              "      <td>5.870670</td>\n",
              "      <td>-76.687508</td>\n",
              "      <td>-57.914063</td>\n",
              "      <td>-54.490629</td>\n",
              "      <td>-51.364065</td>\n",
              "      <td>-30.406252</td>\n",
              "    </tr>\n",
              "    <tr>\n",
              "      <th>Sst</th>\n",
              "      <td>109.0</td>\n",
              "      <td>-52.514968</td>\n",
              "      <td>4.958103</td>\n",
              "      <td>-64.375008</td>\n",
              "      <td>-55.931252</td>\n",
              "      <td>-52.568752</td>\n",
              "      <td>-48.500000</td>\n",
              "      <td>-40.781254</td>\n",
              "    </tr>\n",
              "  </tbody>\n",
              "</table>\n",
              "</div>\n",
              "      <button class=\"colab-df-convert\" onclick=\"convertToInteractive('df-d8cf48f2-6d0c-46ff-ab7c-46f99bc89ac4')\"\n",
              "              title=\"Convert this dataframe to an interactive table.\"\n",
              "              style=\"display:none;\">\n",
              "        \n",
              "  <svg xmlns=\"http://www.w3.org/2000/svg\" height=\"24px\"viewBox=\"0 0 24 24\"\n",
              "       width=\"24px\">\n",
              "    <path d=\"M0 0h24v24H0V0z\" fill=\"none\"/>\n",
              "    <path d=\"M18.56 5.44l.94 2.06.94-2.06 2.06-.94-2.06-.94-.94-2.06-.94 2.06-2.06.94zm-11 1L8.5 8.5l.94-2.06 2.06-.94-2.06-.94L8.5 2.5l-.94 2.06-2.06.94zm10 10l.94 2.06.94-2.06 2.06-.94-2.06-.94-.94-2.06-.94 2.06-2.06.94z\"/><path d=\"M17.41 7.96l-1.37-1.37c-.4-.4-.92-.59-1.43-.59-.52 0-1.04.2-1.43.59L10.3 9.45l-7.72 7.72c-.78.78-.78 2.05 0 2.83L4 21.41c.39.39.9.59 1.41.59.51 0 1.02-.2 1.41-.59l7.78-7.78 2.81-2.81c.8-.78.8-2.07 0-2.86zM5.41 20L4 18.59l7.72-7.72 1.47 1.35L5.41 20z\"/>\n",
              "  </svg>\n",
              "      </button>\n",
              "      \n",
              "  <style>\n",
              "    .colab-df-container {\n",
              "      display:flex;\n",
              "      flex-wrap:wrap;\n",
              "      gap: 12px;\n",
              "    }\n",
              "\n",
              "    .colab-df-convert {\n",
              "      background-color: #E8F0FE;\n",
              "      border: none;\n",
              "      border-radius: 50%;\n",
              "      cursor: pointer;\n",
              "      display: none;\n",
              "      fill: #1967D2;\n",
              "      height: 32px;\n",
              "      padding: 0 0 0 0;\n",
              "      width: 32px;\n",
              "    }\n",
              "\n",
              "    .colab-df-convert:hover {\n",
              "      background-color: #E2EBFA;\n",
              "      box-shadow: 0px 1px 2px rgba(60, 64, 67, 0.3), 0px 1px 3px 1px rgba(60, 64, 67, 0.15);\n",
              "      fill: #174EA6;\n",
              "    }\n",
              "\n",
              "    [theme=dark] .colab-df-convert {\n",
              "      background-color: #3B4455;\n",
              "      fill: #D2E3FC;\n",
              "    }\n",
              "\n",
              "    [theme=dark] .colab-df-convert:hover {\n",
              "      background-color: #434B5C;\n",
              "      box-shadow: 0px 1px 3px 1px rgba(0, 0, 0, 0.15);\n",
              "      filter: drop-shadow(0px 1px 2px rgba(0, 0, 0, 0.3));\n",
              "      fill: #FFFFFF;\n",
              "    }\n",
              "  </style>\n",
              "\n",
              "      <script>\n",
              "        const buttonEl =\n",
              "          document.querySelector('#df-d8cf48f2-6d0c-46ff-ab7c-46f99bc89ac4 button.colab-df-convert');\n",
              "        buttonEl.style.display =\n",
              "          google.colab.kernel.accessAllowed ? 'block' : 'none';\n",
              "\n",
              "        async function convertToInteractive(key) {\n",
              "          const element = document.querySelector('#df-d8cf48f2-6d0c-46ff-ab7c-46f99bc89ac4');\n",
              "          const dataTable =\n",
              "            await google.colab.kernel.invokeFunction('convertToInteractive',\n",
              "                                                     [key], {});\n",
              "          if (!dataTable) return;\n",
              "\n",
              "          const docLinkHtml = 'Like what you see? Visit the ' +\n",
              "            '<a target=\"_blank\" href=https://colab.research.google.com/notebooks/data_table.ipynb>data table notebook</a>'\n",
              "            + ' to learn more about interactive tables.';\n",
              "          element.innerHTML = '';\n",
              "          dataTable['output_type'] = 'display_data';\n",
              "          await google.colab.output.renderOutput(dataTable, element);\n",
              "          const docLink = document.createElement('div');\n",
              "          docLink.innerHTML = docLinkHtml;\n",
              "          element.appendChild(docLink);\n",
              "        }\n",
              "      </script>\n",
              "    </div>\n",
              "  </div>\n",
              "  "
            ]
          },
          "metadata": {},
          "execution_count": 29
        }
      ]
    },
    {
      "cell_type": "markdown",
      "source": [
        "P-valb has a smaller mean than SST. It also has a larger undershoot because the minimum goes all the way down to -76.687508. "
      ],
      "metadata": {
        "id": "U1Ev7_cMxVcR"
      }
    },
    {
      "cell_type": "code",
      "source": [
        "patch_seq.groupby('Marker')['Fast_Trough'].skew()"
      ],
      "metadata": {
        "id": "us25nN1GxvuU",
        "outputId": "3197800c-273d-4874-8304-54cf648fe228",
        "colab": {
          "base_uri": "https://localhost:8080/"
        }
      },
      "execution_count": 30,
      "outputs": [
        {
          "output_type": "execute_result",
          "data": {
            "text/plain": [
              "Marker\n",
              "Pvalb    0.19536\n",
              "Sst      0.00125\n",
              "Name: Fast_Trough, dtype: float64"
            ]
          },
          "metadata": {},
          "execution_count": 30
        }
      ]
    },
    {
      "cell_type": "markdown",
      "source": [
        "both Pvalb and Sst have normal distributions. "
      ],
      "metadata": {
        "id": "Uf6SK_6tx8oI"
      }
    },
    {
      "cell_type": "code",
      "source": [
        "patch_seq.groupby('Marker')['ISI'].describe()"
      ],
      "metadata": {
        "id": "b_wS47XbyMjq",
        "outputId": "fbe1d8df-9422-447d-b239-aeab3ae4d56b",
        "colab": {
          "base_uri": "https://localhost:8080/",
          "height": 142
        }
      },
      "execution_count": 31,
      "outputs": [
        {
          "output_type": "execute_result",
          "data": {
            "text/plain": [
              "        count       mean        std       min        25%        50%  \\\n",
              "Marker                                                                \n",
              "Pvalb   247.0  22.528262  16.014068  6.085122  14.237578  18.660000   \n",
              "Sst     109.0  51.528430  19.698230  8.980000  42.066957  49.844211   \n",
              "\n",
              "              75%         max  \n",
              "Marker                         \n",
              "Pvalb   26.616111  187.986667  \n",
              "Sst     59.962667  154.140000  "
            ],
            "text/html": [
              "\n",
              "  <div id=\"df-827d1315-8e47-4e39-afb8-392e390e30be\">\n",
              "    <div class=\"colab-df-container\">\n",
              "      <div>\n",
              "<style scoped>\n",
              "    .dataframe tbody tr th:only-of-type {\n",
              "        vertical-align: middle;\n",
              "    }\n",
              "\n",
              "    .dataframe tbody tr th {\n",
              "        vertical-align: top;\n",
              "    }\n",
              "\n",
              "    .dataframe thead th {\n",
              "        text-align: right;\n",
              "    }\n",
              "</style>\n",
              "<table border=\"1\" class=\"dataframe\">\n",
              "  <thead>\n",
              "    <tr style=\"text-align: right;\">\n",
              "      <th></th>\n",
              "      <th>count</th>\n",
              "      <th>mean</th>\n",
              "      <th>std</th>\n",
              "      <th>min</th>\n",
              "      <th>25%</th>\n",
              "      <th>50%</th>\n",
              "      <th>75%</th>\n",
              "      <th>max</th>\n",
              "    </tr>\n",
              "    <tr>\n",
              "      <th>Marker</th>\n",
              "      <th></th>\n",
              "      <th></th>\n",
              "      <th></th>\n",
              "      <th></th>\n",
              "      <th></th>\n",
              "      <th></th>\n",
              "      <th></th>\n",
              "      <th></th>\n",
              "    </tr>\n",
              "  </thead>\n",
              "  <tbody>\n",
              "    <tr>\n",
              "      <th>Pvalb</th>\n",
              "      <td>247.0</td>\n",
              "      <td>22.528262</td>\n",
              "      <td>16.014068</td>\n",
              "      <td>6.085122</td>\n",
              "      <td>14.237578</td>\n",
              "      <td>18.660000</td>\n",
              "      <td>26.616111</td>\n",
              "      <td>187.986667</td>\n",
              "    </tr>\n",
              "    <tr>\n",
              "      <th>Sst</th>\n",
              "      <td>109.0</td>\n",
              "      <td>51.528430</td>\n",
              "      <td>19.698230</td>\n",
              "      <td>8.980000</td>\n",
              "      <td>42.066957</td>\n",
              "      <td>49.844211</td>\n",
              "      <td>59.962667</td>\n",
              "      <td>154.140000</td>\n",
              "    </tr>\n",
              "  </tbody>\n",
              "</table>\n",
              "</div>\n",
              "      <button class=\"colab-df-convert\" onclick=\"convertToInteractive('df-827d1315-8e47-4e39-afb8-392e390e30be')\"\n",
              "              title=\"Convert this dataframe to an interactive table.\"\n",
              "              style=\"display:none;\">\n",
              "        \n",
              "  <svg xmlns=\"http://www.w3.org/2000/svg\" height=\"24px\"viewBox=\"0 0 24 24\"\n",
              "       width=\"24px\">\n",
              "    <path d=\"M0 0h24v24H0V0z\" fill=\"none\"/>\n",
              "    <path d=\"M18.56 5.44l.94 2.06.94-2.06 2.06-.94-2.06-.94-.94-2.06-.94 2.06-2.06.94zm-11 1L8.5 8.5l.94-2.06 2.06-.94-2.06-.94L8.5 2.5l-.94 2.06-2.06.94zm10 10l.94 2.06.94-2.06 2.06-.94-2.06-.94-.94-2.06-.94 2.06-2.06.94z\"/><path d=\"M17.41 7.96l-1.37-1.37c-.4-.4-.92-.59-1.43-.59-.52 0-1.04.2-1.43.59L10.3 9.45l-7.72 7.72c-.78.78-.78 2.05 0 2.83L4 21.41c.39.39.9.59 1.41.59.51 0 1.02-.2 1.41-.59l7.78-7.78 2.81-2.81c.8-.78.8-2.07 0-2.86zM5.41 20L4 18.59l7.72-7.72 1.47 1.35L5.41 20z\"/>\n",
              "  </svg>\n",
              "      </button>\n",
              "      \n",
              "  <style>\n",
              "    .colab-df-container {\n",
              "      display:flex;\n",
              "      flex-wrap:wrap;\n",
              "      gap: 12px;\n",
              "    }\n",
              "\n",
              "    .colab-df-convert {\n",
              "      background-color: #E8F0FE;\n",
              "      border: none;\n",
              "      border-radius: 50%;\n",
              "      cursor: pointer;\n",
              "      display: none;\n",
              "      fill: #1967D2;\n",
              "      height: 32px;\n",
              "      padding: 0 0 0 0;\n",
              "      width: 32px;\n",
              "    }\n",
              "\n",
              "    .colab-df-convert:hover {\n",
              "      background-color: #E2EBFA;\n",
              "      box-shadow: 0px 1px 2px rgba(60, 64, 67, 0.3), 0px 1px 3px 1px rgba(60, 64, 67, 0.15);\n",
              "      fill: #174EA6;\n",
              "    }\n",
              "\n",
              "    [theme=dark] .colab-df-convert {\n",
              "      background-color: #3B4455;\n",
              "      fill: #D2E3FC;\n",
              "    }\n",
              "\n",
              "    [theme=dark] .colab-df-convert:hover {\n",
              "      background-color: #434B5C;\n",
              "      box-shadow: 0px 1px 3px 1px rgba(0, 0, 0, 0.15);\n",
              "      filter: drop-shadow(0px 1px 2px rgba(0, 0, 0, 0.3));\n",
              "      fill: #FFFFFF;\n",
              "    }\n",
              "  </style>\n",
              "\n",
              "      <script>\n",
              "        const buttonEl =\n",
              "          document.querySelector('#df-827d1315-8e47-4e39-afb8-392e390e30be button.colab-df-convert');\n",
              "        buttonEl.style.display =\n",
              "          google.colab.kernel.accessAllowed ? 'block' : 'none';\n",
              "\n",
              "        async function convertToInteractive(key) {\n",
              "          const element = document.querySelector('#df-827d1315-8e47-4e39-afb8-392e390e30be');\n",
              "          const dataTable =\n",
              "            await google.colab.kernel.invokeFunction('convertToInteractive',\n",
              "                                                     [key], {});\n",
              "          if (!dataTable) return;\n",
              "\n",
              "          const docLinkHtml = 'Like what you see? Visit the ' +\n",
              "            '<a target=\"_blank\" href=https://colab.research.google.com/notebooks/data_table.ipynb>data table notebook</a>'\n",
              "            + ' to learn more about interactive tables.';\n",
              "          element.innerHTML = '';\n",
              "          dataTable['output_type'] = 'display_data';\n",
              "          await google.colab.output.renderOutput(dataTable, element);\n",
              "          const docLink = document.createElement('div');\n",
              "          docLink.innerHTML = docLinkHtml;\n",
              "          element.appendChild(docLink);\n",
              "        }\n",
              "      </script>\n",
              "    </div>\n",
              "  </div>\n",
              "  "
            ]
          },
          "metadata": {},
          "execution_count": 31
        }
      ]
    },
    {
      "cell_type": "code",
      "source": [
        "patch_seq.groupby('Marker')['ISI'].skew()"
      ],
      "metadata": {
        "id": "GJ0vCiAbyQ6n",
        "outputId": "019dcf8a-9b78-4783-da9c-e528913c18c0",
        "colab": {
          "base_uri": "https://localhost:8080/"
        }
      },
      "execution_count": 32,
      "outputs": [
        {
          "output_type": "execute_result",
          "data": {
            "text/plain": [
              "Marker\n",
              "Pvalb    5.596386\n",
              "Sst      1.857850\n",
              "Name: ISI, dtype: float64"
            ]
          },
          "metadata": {},
          "execution_count": 32
        }
      ]
    },
    {
      "cell_type": "code",
      "source": [
        "sst_neurons = patch_seq[patch_seq['Marker']=='Sst']\n",
        "pvalb_neurons = patch_seq[patch_seq['Marker']=='Sst']"
      ],
      "metadata": {
        "id": "bowrQsJnygAv"
      },
      "execution_count": 34,
      "outputs": []
    },
    {
      "cell_type": "code",
      "source": [
        "stats.ttest_ind(sst_neurons['Fast_Trough'], pvalb_neurons['Fast_Trough'])"
      ],
      "metadata": {
        "id": "hjLIGhzqytLQ",
        "outputId": "13fff45b-3057-4237-cd29-19391c07c0a6",
        "colab": {
          "base_uri": "https://localhost:8080/"
        }
      },
      "execution_count": 35,
      "outputs": [
        {
          "output_type": "execute_result",
          "data": {
            "text/plain": [
              "Ttest_indResult(statistic=0.0, pvalue=1.0)"
            ]
          },
          "metadata": {},
          "execution_count": 35
        }
      ]
    }
  ]
}