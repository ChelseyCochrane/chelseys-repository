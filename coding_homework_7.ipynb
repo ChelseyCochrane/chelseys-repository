{
  "nbformat": 4,
  "nbformat_minor": 0,
  "metadata": {
    "colab": {
      "provenance": [],
      "include_colab_link": true
    },
    "kernelspec": {
      "name": "python3",
      "display_name": "Python 3"
    },
    "language_info": {
      "name": "python"
    }
  },
  "cells": [
    {
      "cell_type": "markdown",
      "metadata": {
        "id": "view-in-github",
        "colab_type": "text"
      },
      "source": [
        "<a href=\"https://colab.research.google.com/github/ChelseyCochrane/chelseys-repository/blob/main/coding_homework_7.ipynb\" target=\"_parent\"><img src=\"https://colab.research.google.com/assets/colab-badge.svg\" alt=\"Open In Colab\"/></a>"
      ]
    },
    {
      "cell_type": "markdown",
      "source": [
        "# Coding Homework #7\n",
        "\n",
        "**Instructions**\n",
        "\n",
        "1. Make a *Markdown Cell* that contains the following information:\n",
        "- Your name (small header)\n",
        "- The name of this class (italicized)\n",
        "- The date (bolded)\n",
        "\n",
        "2. Create a *Code Cell* that imports relevant modules - specifically, <code>numpy as np</code>, and <code>matplotlib.pyplot as plt</code>.\n",
        "\n",
        "3. For this assignment, you will be working with the <code>spikes_left_trial1.csv</code>, <code>spikes_right_trial1.csv</code>, <code>spikes_left_trial2</code>, and <code>spikes_right_trial2</code> files in our shared Google Drive folder. Create a *Code Cell* that imports these files as <code>numpy</code> arrays called <code>spikes_left_trial1</code>, <code>spikes_right_trial1</code>, <code>spikes_left_trial2</code>, and <code>spikes_right_trial2</code>, respectively. To do this, you should upload each file to your personal GitHub repo.\n",
        "\n",
        "4. Create a *Code Cell* that prints the <code>length</code> of each array.\n",
        "\n",
        "5. These data contain timestamp values for action potentials recorded from one neuron in the rat prefrontal cortex (PFC). Action potentials were recorded from tetrodes while the rat performed a task designed to test working memory - the **delayed alternation task**. During this task, rats were trained to go up the central stem of a _figure 8_ maze, and turn either left or right. Rewards (chocolate sprinkles) were placed at the end of the goal arm (the arm the rat went up after it made its turn at the end of the stem). The rat received a reward if it alternated between the two goal arms from trial to trial. In other words, the rat learned to go *left* on trial 1, and then *right* on trial 2, *left* on trial 3, etc. Between trials, the rat waited on a pedestal at the base of the maze for 30 seconds. This waiting period tested the rat's working memory because it had to keep in mind where it was going to go (left or right) when the 30 second waiting period was up. The spike timestamps in the four arrays you imported were from this 30 second waiting period. Specifically, <code>spikes_left_trial1</code> is from the waiting period before the first *left turn* trial (i.e., the rat turned left after the waiting period was up), and <code>spikes_right_trial1</code> is from the waiting period before the first *right turn* trial (i.e., the rat turned right after the waiting period was up). The <code>spikes_left_trial2</code> and <code>spikes_right_trial2</code> arrays are the same, but for the second left and right turn trials. We are interested to know whether the firing rate of this cell during the waiting period might predict which direction the rat turns on the upcoming trial.\n",
        "\n",
        "6. In a new *Code Cell*, write an expression to determine the firing rate of this neuron during each trial (first and second left turn trials, first and second right turn trials).\n",
        "\n",
        "7. In a new *Markdown Cell*, interpret these results - do you think this neuron fires more before left turn trials, or right turn trials?\n",
        "\n",
        "8. In a new *Code Cell*, make two subplots, and plot the spike train data from trial 1 in your first subplot, and the spike train data from trial 2 in your second subplot. You should have dots that correspond to action potentials in two rows (one for left turn, one for right turn) in each subplot. Label your axes. \n",
        "\n",
        "9. In a new *Markdown Cell*, interpret the graph from step 8. Does this neuron seem more \"bursty\", or more regular-firing, during left or right turn trials? \n",
        "\n",
        "10. In a new *Code Cell*, calculate inter-spike interval (ISI) arrays for each of your four spike arrays using the <code>np.diff()</code> function. Make sure to create a variable name for each ISI array.\n",
        "\n",
        "11. In a new *Code Cell*, make four histograms - one for each of your four ISI arrays. Set the bins for your histograms to start at time 0, and end at time 2 s, with a bin size equal to 0.01 s. Label your axes.\n",
        "\n",
        "12. In a new *Markdown Cell*, interpret your histograms. Does this neuron tend to fire in \"bursts\"? Does it have higher \"burstiness\" during left or right turn trials?\n",
        "\n",
        "13. In a new *Code Cell*, calculate the firing rate across time for each of your four arrays (trial 1 left-turn, trial 1 right-turn, trial 2 left-turn, and trial 2 right-turn). Set your time bins equal to start at 0 s, end at 30 s (the length of the waiting period), with a bin size equal to 1 s. Create two subplots, and plot the firing rate over time for each trial in each of the two subplots. For example, your first subplot should have the firing rate across time for trial 1 left-turn, and trial 1 right-turn, and your second subplot should have the firing rate across time for trial 2 left-turn, and trial 2 right-turn. Make the line for right-turn trials blue, and the line for left-turn trials red. Label your axes.\n",
        "\n",
        "14. In a new *Markdown Cell*, interpret your graph from step 13. Does the firing rate between left and right turn trials differ at specific timepoints during the 30 s waiting period? Is the pattern different for trial 1 and trial 2? \n",
        "\n",
        "15. Make sure to put a <code>#</code> in each *Code Cell* to describe what it does.\n",
        "\n",
        "16. Save a copy of this notebook to your GitHub repo with the title <code>coding_homework_7.ipynb</code>."
      ],
      "metadata": {
        "id": "8PeYpSUQiq6c"
      }
    },
    {
      "cell_type": "markdown",
      "source": [
        "##Chelsey Cochrane \n",
        "*Neural Data Analysis*\n",
        "\n",
        "**4/12/23**"
      ],
      "metadata": {
        "id": "ofppSq_xGD73"
      }
    },
    {
      "cell_type": "code",
      "source": [
        "# importing relevant modules - specifically, numpy as np, and matplotlib.pyplot as plt.\n",
        "\n",
        "from matplotlib import pyplot as plt\n",
        "\n",
        "import numpy as np "
      ],
      "metadata": {
        "id": "x7CayVL6Gt39"
      },
      "execution_count": 1,
      "outputs": []
    },
    {
      "cell_type": "code",
      "source": [
        "# importing spikes_left_trial1.csv as numpy array called spikes_left_trial1\n",
        "# importing spikes_right_trial1.csv as numpy array called spikes_right_trial1\n",
        "# importing spikes_left_trial2.csv as numpy array called spikes_left_trial2\n",
        "# importing spikes_right_trial2.csv as numpy array called spikes_right_trial2.\n",
        "\n",
        "url1 = 'https://raw.githubusercontent.com/ChelseyCochrane/chelseys-repository/main/spikes_left_trial1.csv'\n",
        "spikes_left_trial1 = np.loadtxt(url1, delimiter = ',')\n",
        "\n",
        "url2 = 'https://raw.githubusercontent.com/ChelseyCochrane/chelseys-repository/main/spikes_right_trial1.csv'\n",
        "spikes_right_trial1 = np.loadtxt(url2, delimiter = ',')\n",
        "\n",
        "url3 = 'https://raw.githubusercontent.com/ChelseyCochrane/chelseys-repository/main/spikes_left_trial2.csv'\n",
        "spikes_left_trial2 = np.loadtxt(url3, delimiter = ',')\n",
        "\n",
        "url4 = 'https://raw.githubusercontent.com/ChelseyCochrane/chelseys-repository/main/spikes_right_trial2.csv'\n",
        "spikes_right_trial2 = np.loadtxt(url4, delimiter = ',')\n"
      ],
      "metadata": {
        "id": "VSXieQI-HXLN"
      },
      "execution_count": 9,
      "outputs": []
    },
    {
      "cell_type": "code",
      "source": [
        "# printing the length of each array\n",
        "\n",
        "print(len(spikes_left_trial1))\n",
        "print(len(spikes_right_trial1))\n",
        "print(len(spikes_left_trial2))\n",
        "print(len(spikes_right_trial2))"
      ],
      "metadata": {
        "id": "HWuHjoduKn1i",
        "outputId": "6c2e4fe9-d237-4ad4-9dad-519ed3fd0710",
        "colab": {
          "base_uri": "https://localhost:8080/"
        }
      },
      "execution_count": 8,
      "outputs": [
        {
          "output_type": "stream",
          "name": "stdout",
          "text": [
            "65\n",
            "45\n",
            "53\n",
            "69\n"
          ]
        }
      ]
    },
    {
      "cell_type": "code",
      "source": [
        "# printing the firing rates\n",
        "\n",
        "firingrateL1 = (len(spikes_left_trial1))/30\n",
        "print(firingrateL1)\n",
        "firingrateL2 = (len(spikes_left_trial2))/30\n",
        "print(firingrateL2)\n",
        "firingrateR1 = (len(spikes_right_trial1))/30\n",
        "print(firingrateR1)\n",
        "firingrateR2 = (len(spikes_right_trial2))/30\n",
        "print(firingrateR2)"
      ],
      "metadata": {
        "id": "Qe27lVzWNth8",
        "outputId": "c030736c-e0eb-4d3c-f57d-c4e9b520fb5a",
        "colab": {
          "base_uri": "https://localhost:8080/"
        }
      },
      "execution_count": 12,
      "outputs": [
        {
          "output_type": "stream",
          "name": "stdout",
          "text": [
            "2.1666666666666665\n",
            "1.7666666666666666\n",
            "1.5\n",
            "2.3\n"
          ]
        }
      ]
    },
    {
      "cell_type": "markdown",
      "source": [
        "# Interpret the firing rates results\n",
        "* The firing rates for the second right turn and the first left turn were the highest. There is not a big difference between the trials for the right and for the left. "
      ],
      "metadata": {
        "id": "7orqWd_sP-bh"
      }
    },
    {
      "cell_type": "code",
      "source": [
        "# plotting the spike train data from trial 1 in first subplot, and the spike train data from trial 2 in second subplot.\n",
        "\n",
        "fig, ax = plt.subplots(1,2,figsize=(15,5))\n",
        "ax[0].plot(spikes_left_trial1, np.ones_like(spikes_left_trial1), '.')        # Plot the low-light condition spikes\n",
        "ax[0].plot(spikes_right_trial1, 2 * np.ones_like(spikes_right_trial1), '.')  # ... and the high-light condition spikes \n",
        "\n",
        "ax[1].plot(spikes_left_trial2, np.ones_like(spikes_left_trial2), '.')        # Plot the low-light condition spikes\n",
        "ax[1].plot(spikes_right_trial2, 2 * np.ones_like(spikes_right_trial2), '.')  # ... and the high-light condition spikes \n",
        "\n",
        "ax[0].set_xlabel('Time [s]')\n",
        "ax[0].set_ylabel('Trial1')\n",
        "ax[1].set_xlabel('Time [s]')\n",
        "ax[1].set_ylabel('Trial2')"
      ],
      "metadata": {
        "id": "kZH5zkkHRVGy",
        "outputId": "7bb9e215-b7be-47e7-c4bd-ee3a4d6b06c8",
        "colab": {
          "base_uri": "https://localhost:8080/",
          "height": 482
        }
      },
      "execution_count": 24,
      "outputs": [
        {
          "output_type": "execute_result",
          "data": {
            "text/plain": [
              "Text(0, 0.5, 'Trial2')"
            ]
          },
          "metadata": {},
          "execution_count": 24
        },
        {
          "output_type": "display_data",
          "data": {
            "text/plain": [
              "<Figure size 1500x500 with 2 Axes>"
            ],
            "image/png": "[encoded data removed]"
          },
          "metadata": {}
        }
      ]
    },
    {
      "cell_type": "markdown",
      "source": [
        "###interpret the graph from step 8. Does this neuron seem more \"bursty\", or more regular-firing, during left or right turn trials?\n",
        "\n",
        "I dont think they fire regularly in all of them. I think Right and Left for both of the trials are bursty. "
      ],
      "metadata": {
        "id": "ifNIrDbgVrCP"
      }
    },
    {
      "cell_type": "code",
      "source": [
        "ISIL1 = np.diff(spikes_left_trial1)\n",
        "print(ISIL1)\n",
        "ISIL2 = np.diff(spikes_left_trial2)\n",
        "print(ISIL2)\n",
        "ISIR1 = np.diff(spikes_right_trial1)\n",
        "print(ISIR1)\n",
        "ISIR2 = np.diff(spikes_right_trial2)\n",
        "print(ISIR2)\n"
      ],
      "metadata": {
        "id": "BjY93jvYWNtY",
        "outputId": "460d1d76-a256-4e83-a1a1-b1e64f9eb4f8",
        "colab": {
          "base_uri": "https://localhost:8080/"
        }
      },
      "execution_count": 33,
      "outputs": [
        {
          "output_type": "stream",
          "name": "stdout",
          "text": [
            "[1.75574  0.057416 0.044268 0.682444 1.233286 0.22358  0.06531  0.020767\n",
            " 0.279245 1.098578 0.356628 0.259738 4.367309 0.45441  0.136212 0.041073\n",
            " 0.250092 0.194642 0.013271 0.017694 0.039383 0.025559 0.039875 0.087183\n",
            " 0.669328 0.444426 0.08617  0.658759 0.04267  0.010568 0.177039 0.049183\n",
            " 0.042947 0.012103 0.027157 0.009953 0.033915 0.199219 0.080671 0.417423\n",
            " 0.138916 0.056955 0.423076 0.139837 0.031519 0.032256 0.116337 0.190494\n",
            " 0.304743 0.038922 0.025313 3.139308 0.007495 4.216013 0.005683 0.099533\n",
            " 0.047585 0.011305 0.951061 0.031273 1.420155 1.117563 0.621803 0.521933]\n",
            "[0.009524 0.060979 0.043161 0.056525 0.188928 0.150528 0.100332 0.024238\n",
            " 1.628436 5.248512 0.013886 0.230523 0.308428 3.140967 4.812933 0.148531\n",
            " 1.346704 0.068167 0.054098 0.03926  0.162386 0.900465 0.903475 0.129362\n",
            " 0.010967 0.01195  0.044268 0.037232 0.048323 0.426332 2.021069 0.143431\n",
            " 0.14079  0.055481 0.058368 0.016773 0.011765 0.014562 0.464978 0.038461\n",
            " 1.453548 0.098672 0.105155 0.133079 0.663767 0.049797 0.02178  0.094188\n",
            " 0.025283 0.087459 0.080272 0.150927]\n",
            "[1.071575 0.437729 0.5137   1.515878 0.318198 0.107274 1.187543 0.147978\n",
            " 0.03453  0.036249 0.140145 0.267233 0.52307  0.017264 0.220201 0.274975\n",
            " 2.316257 0.35027  0.109701 0.081101 0.331192 0.067676 0.921938 0.82388\n",
            " 0.445808 0.0384   0.204442 0.191201 3.087207 1.011824 8.252683 0.445009\n",
            " 1.067244 1.168435 1.104384 0.025774 0.115845 0.045742 0.038646 0.089242\n",
            " 0.017357 0.02433  0.023992 0.093881]\n",
            "[0.049121 0.03969  0.018955 0.046018 0.106906 0.035236 0.053145 0.09643\n",
            " 0.057785 0.053698 0.065741 0.074649 0.02688  0.107858 0.079289 0.105369\n",
            " 0.043684 0.02728  0.316047 0.2974   0.528353 0.222383 0.109578 0.041349\n",
            " 0.009554 0.08706  0.034806 1.225974 0.476651 0.009093 1.414472 0.041503\n",
            " 0.91521  0.18217  0.046418 0.012472 0.028754 0.036434 0.088381 0.060457\n",
            " 0.127396 1.16524  3.694725 0.018586 0.15916  0.191908 0.063867 0.023532\n",
            " 0.069734 0.042394 0.073574 0.209019 0.112527 0.00725  0.015852 0.861419\n",
            " 0.106875 2.227876 2.392013 0.958064 0.284867 0.042609 0.905932 1.05259\n",
            " 0.797307 0.337275 0.278139 0.560271]\n"
          ]
        }
      ]
    },
    {
      "cell_type": "code",
      "source": [
        "bins = np.arange(0, .01, 2)\n",
        "plt.hist(ISIL1, bins)\n",
        "plt.xlim([0, 4])  \n",
        "plt.ylim(0,25)"
      ],
      "metadata": {
        "id": "_gMegeWAXXQG",
        "outputId": "1c96143a-e4e3-4430-b683-1ef3db9a0475",
        "colab": {
          "base_uri": "https://localhost:8080/",
          "height": 452
        }
      },
      "execution_count": 35,
      "outputs": [
        {
          "output_type": "execute_result",
          "data": {
            "text/plain": [
              "(0.0, 25.0)"
            ]
          },
          "metadata": {},
          "execution_count": 35
        },
        {
          "output_type": "display_data",
          "data": {
            "text/plain": [
              "<Figure size 640x480 with 1 Axes>"
            ],
            "image/png": "[encoded data removed]"
          },
          "metadata": {}
        }
      ]
    },
    {
      "cell_type": "code",
      "source": [
        "bins = np.arange(0, .01, 2)\n",
        "plt.hist(ISIL2, bins)"
      ],
      "metadata": {
        "id": "FsVvuw8pXxsq",
        "outputId": "85ecc3b2-c1b9-44ab-bf4a-891ae9fea979",
        "colab": {
          "base_uri": "https://localhost:8080/",
          "height": 447
        }
      },
      "execution_count": 30,
      "outputs": [
        {
          "output_type": "execute_result",
          "data": {
            "text/plain": [
              "(array([], dtype=float64), array([0.]), <BarContainer object of 0 artists>)"
            ]
          },
          "metadata": {},
          "execution_count": 30
        },
        {
          "output_type": "display_data",
          "data": {
            "text/plain": [
              "<Figure size 640x480 with 1 Axes>"
            ],
            "image/png": "[encoded data removed]"
          },
          "metadata": {}
        }
      ]
    }
  ]
}