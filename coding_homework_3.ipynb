{
  "nbformat": 4,
  "nbformat_minor": 0,
  "metadata": {
    "colab": {
      "provenance": [],
      "include_colab_link": true
    },
    "kernelspec": {
      "name": "python3",
      "display_name": "Python 3"
    },
    "language_info": {
      "name": "python"
    }
  },
  "cells": [
    {
      "cell_type": "markdown",
      "metadata": {
        "id": "view-in-github",
        "colab_type": "text"
      },
      "source": [
        "<a href=\"https://colab.research.google.com/github/ChelseyCochrane/chelseys-repository/blob/main/coding_homework_3.ipynb\" target=\"_parent\"><img src=\"https://colab.research.google.com/assets/colab-badge.svg\" alt=\"Open In Colab\"/></a>"
      ]
    },
    {
      "cell_type": "markdown",
      "source": [
        "# Coding Homework #3\n",
        "\n",
        "**Instructions**\n",
        "\n",
        "1. Make a *Markdown Cell* that contains the following information:\n",
        "- Your name (small header)\n",
        "- The name of this class (italicized)\n",
        "- The date (bolded)\n",
        "\n",
        "2. Make a *Code Cell* that imports <code>numpy</code> as <code>np</code>, <code>matplotlib.pyplot</code> as <code>plt</code>, and <code>scipy.stats</code> as <code>stats</code>.\n",
        "\n",
        "3. Make a *Code Cell* that imports your <code>v_rest1.csv</code> and <code>v_rest2.csv</code> variables as <code>numpy</code> arrays called <code>v_rest1</code> and <code>v_rest2</code> respectively.\n",
        "\n",
        "4. Make a *Code Cell* that does the following:\n",
        "  \n",
        "  a. Finds the means of <code>v_rest1</code> and <code>v_rest2</code>.\n",
        "  \n",
        "  b. Performs a t-test to test the null hypothesis that the means of <code>v_rest1</code> and <code>v_rest2</code> come from different distributions.\n",
        "\n",
        "  c. Plots a histogram of <code>v_rest1</code> in one subplot, and a histogram of <code>v_rest2</code> in another subplot if the p-value of the t-test is > 0.05. You can make two subplots using the syntax <code>fig, ax = plt.subplots(1,1)</code>.\n",
        "\n",
        "  d. Labels the y-axis and x-axis of your histograms (recall that <code>ax.ylabel</code> and <code>ax.xlabel</code> are the methods that let you accomplish this).\n",
        "\n",
        "5. Make a *Code Cell* that defines a function called <code>vrestHist()</code>. This function should execute the code in step 4 when called. Remember to tell python that you want the function to show your plots when you call it!\n",
        "\n",
        "6. Make a *Code Cell* that calls <code>vrestHist()</code>.\n",
        "\n",
        "7. Make a *Code Cell* that does the following:\n",
        "\n",
        "    a. Loops through each column of <code>v_rest1</code> and <code>v_rest2</code> and makes a scatter plot with <code>v_rest1</code> on the x-axis and <code>v_rest2</code> on the y-axis. \n",
        "\n",
        "    b. Each iteration of your loop should plot a different point on the scatter plot. At the end of your loop, you should have only one scatter plot with number of data points equal to the length of <code>v_rest1</code> and <code>v_rest2</code>.\n",
        "\n",
        "    c. Your loop should plot a <font color = 'red'>red</font> dot if *both* values in <code>v_rest1</code> and <code>v_rest2</code> are greater than -60, a <font color = 'green'>green</font> dot if values in <code>v_rest1</code> are greater than -60, but values in <code>v_rest2</code> are less than -60, and a <font color = 'blue'>blue</font> dot if *both* values in <code>v_rest1</code> and <code>v_rest2</code> are less than -60. \n",
        "\n",
        "    d. Labels your y-axis and your x-axis (this code should be outside of your loop).\n",
        "\n",
        "8. Make a *Code Cell* that defines a function called <code>vrestScatter()</code>. This function should execute the code in step 7 when called. Remember to tell python that you want the function to show your plot when you call it!\n",
        "\n",
        "9. Save a copy of this notebook to your GitHub repo with the title \"coding_homework_3.ipynb\"."
      ],
      "metadata": {
        "id": "zbzMCJlMN3ph"
      }
    },
    {
      "cell_type": "markdown",
      "source": [
        "##Chelsey Cochrane\n",
        "*Intro to Data Analysis* \n",
        "\n",
        "**2/27/23**"
      ],
      "metadata": {
        "id": "UFvaJqLD6ELz"
      }
    },
    {
      "cell_type": "code",
      "source": [
        "# importing numpy as np, matplotlib.pyplot as plt, and scipy.stats as stats\n",
        "\n",
        "from matplotlib import pyplot as plt\n",
        "\n",
        "import scipy.stats as stats\n",
        "\n",
        "import numpy as np"
      ],
      "metadata": {
        "id": "ETWeOoUU6S2v"
      },
      "execution_count": 2,
      "outputs": []
    },
    {
      "cell_type": "code",
      "source": [
        "# turning v_rest 1 into v_rest1\n",
        "\n",
        "url1 = 'https://raw.githubusercontent.com/ChelseyCochrane/chelseys-repository/main/vrest_1.csv'\n",
        "v_rest1 = np.loadtxt(url1)"
      ],
      "metadata": {
        "id": "Sxaihtvd6_Tj"
      },
      "execution_count": 3,
      "outputs": []
    },
    {
      "cell_type": "code",
      "source": [
        "# turning v_rest 1 into v_rest2\n",
        "\n",
        "url2 = 'https://raw.githubusercontent.com/ChelseyCochrane/chelseys-repository/main/vrest_2.csv'\n",
        "v_rest2 = np.loadtxt(url2)"
      ],
      "metadata": {
        "id": "cH51eGum7CUV"
      },
      "execution_count": 4,
      "outputs": []
    },
    {
      "cell_type": "code",
      "source": [
        "# make a code cell that:  \n",
        "# finds the means of v_rest1 and v_rest2\n",
        "# performs a t-test\n",
        "# Plots a histogram of v_rest1 in one subplot, and a histogram of v_rest2 in another subplot if the p-value of the t-test is > 0.05\n",
        "# Labels the y-axis and x-axis of your histograms\n",
        "\n",
        "v_rest_mean1 = np.mean(v_rest1)\n",
        "v_rest_mean2 = np.mean(v_rest2)\n",
        "print(v_rest_mean1)\n",
        "print(v_rest_mean2)\n",
        "ttest = stats.ttest_ind(v_rest1, v_rest2)\n",
        "print(ttest)\n",
        "fig, ax = plt.subplots(1,2,figsize=(15,5))\n",
        "\n",
        "ax[0].hist(v_rest1)\n",
        "ax[1].hist(v_rest2)\n",
        "ax[0].set_xlabel('resting membrane potential (mV)')\n",
        "ax[0].set_ylabel('counts')\n",
        "ax[1].set_xlabel('resting membrane potential (mV)')\n",
        "ax[1].set_ylabel('counts')"
      ],
      "metadata": {
        "id": "YyL57grtI5nf",
        "outputId": "d617d72e-3b46-4bcc-ba0b-47d2688c474a",
        "colab": {
          "base_uri": "https://localhost:8080/",
          "height": 402
        }
      },
      "execution_count": 5,
      "outputs": [
        {
          "output_type": "stream",
          "name": "stdout",
          "text": [
            "-72.71571985461539\n",
            "-71.00683388384616\n",
            "Ttest_indResult(statistic=-0.7662045633720231, pvalue=0.4510254700764461)\n"
          ]
        },
        {
          "output_type": "execute_result",
          "data": {
            "text/plain": [
              "Text(0, 0.5, 'counts')"
            ]
          },
          "metadata": {},
          "execution_count": 5
        },
        {
          "output_type": "display_data",
          "data": {
            "text/plain": [
              "<Figure size 1080x360 with 2 Axes>"
            ],
            "image/png": "[encoded data removed]"
          },
          "metadata": {
            "needs_background": "light"
          }
        }
      ]
    },
    {
      "cell_type": "code",
      "source": [
        "# Defining a function called vrestHist() that executes the code in step 4 when called.\n",
        "\n",
        "def vrestHist(): \n",
        "    v_rest_mean1 = np.mean(v_rest1)\n",
        "    v_rest_mean2 = np.mean(v_rest2)\n",
        "    print(v_rest_mean1)\n",
        "    print(v_rest_mean2)\n",
        "    ttest = stats.ttest_ind(v_rest1, v_rest2)\n",
        "    print(ttest)\n",
        "    fig, ax = plt.subplots(1,2,figsize=(15,5))\n",
        "\n",
        "    ax[0].hist(v_rest1)\n",
        "    ax[0].set_xlabel('resting membrane potential (mV)')\n",
        "    ax[0].set_ylabel('counts')\n",
        "    ax[1].hist(v_rest2)\n",
        "    ax[1].set_xlabel('resting membrane potential (mV)')\n",
        "    ax[1].set_ylabel('counts')\n",
        "plt.show()"
      ],
      "metadata": {
        "id": "LGdlnA_3N1nZ"
      },
      "execution_count": 15,
      "outputs": []
    },
    {
      "cell_type": "code",
      "source": [
        "# calling vrestHist()\n",
        "\n",
        "vrestHist()"
      ],
      "metadata": {
        "id": "qa5q5BnmRx70",
        "outputId": "a9bfdb11-a601-4a07-af7e-1bf6e815c4d4",
        "colab": {
          "base_uri": "https://localhost:8080/",
          "height": 385
        }
      },
      "execution_count": 16,
      "outputs": [
        {
          "output_type": "stream",
          "name": "stdout",
          "text": [
            "-72.71571985461539\n",
            "-71.00683388384616\n",
            "Ttest_indResult(statistic=-0.7662045633720231, pvalue=0.4510254700764461)\n"
          ]
        },
        {
          "output_type": "display_data",
          "data": {
            "text/plain": [
              "<Figure size 1080x360 with 2 Axes>"
            ],
            "image/png": "[encoded data removed]"
          },
          "metadata": {
            "needs_background": "light"
          }
        }
      ]
    },
    {
      "cell_type": "code",
      "source": [
        "# Looping through each column of v_rest1 and v_rest2 and making a scatter plot with v_rest1 on the x-axis and v_rest2 on the y-axis\n",
        "# ploting a red dot if both values in v_rest1 and v_rest2 are greater than -60, a green dot if values in v_rest1 are greater than -60, but values in v_rest2 are less than -60, and a blue dot if both values in v_rest1 and v_rest2 are less than -60.\n",
        "# Labels the y-axis and x-axis of your histograms\n",
        "\n",
        "v_rest1_len = len(v_rest1)\n",
        "v_rest2_len = len(v_rest2)\n",
        "\n",
        "for i in range(v_rest1_len):\n",
        "  if v_rest1[i] > -60 and v_rest2[i] > -60: \n",
        "    plt.scatter(v_rest1[i], v_rest2[i], color = \"red\")\n",
        "  elif v_rest1[i] > -60 and v_rest2[i] < -60: \n",
        "    plt.scatter(v_rest1[i], v_rest2[i],color = \"green\")\n",
        "  elif v_rest1[i] < -60 and v_rest2[i] < -60:\n",
        "    plt.scatter(v_rest1[i], v_rest2[i], color = \"blue\")\n",
        "\n",
        "plt.xlabel(\"resting membrane potential of v_rest1\")\n",
        "plt.ylabel(\"resting membrane potential of v_rest2\")\n"
      ],
      "metadata": {
        "id": "b_x989FA0mtG",
        "outputId": "a169a34f-1876-44b4-b96a-7c07df91887f",
        "colab": {
          "base_uri": "https://localhost:8080/",
          "height": 297
        }
      },
      "execution_count": 17,
      "outputs": [
        {
          "output_type": "execute_result",
          "data": {
            "text/plain": [
              "Text(0, 0.5, 'resting membrane potential of v_rest2')"
            ]
          },
          "metadata": {},
          "execution_count": 17
        },
        {
          "output_type": "display_data",
          "data": {
            "text/plain": [
              "<Figure size 432x288 with 1 Axes>"
            ],
            "image/png": "[encoded data removed]"
          },
          "metadata": {
            "needs_background": "light"
          }
        }
      ]
    },
    {
      "cell_type": "code",
      "source": [
        "# defining a function called vrestScatter() that executes the code in step 7 when called. \n",
        "\n",
        "def vrestScatter(): \n",
        "    v_rest1_len = len(v_rest1)\n",
        "    v_rest2_len = len(v_rest2)\n",
        "\n",
        "    for i in range(v_rest1_len):\n",
        "      if v_rest1[i] > -60 and v_rest2[i] > -60: \n",
        "        plt.scatter(v_rest1[i], v_rest2[i], color = \"red\")\n",
        "      elif v_rest1[i] > -60 and v_rest2[i] < -60: \n",
        "        plt.scatter(v_rest1[i], v_rest2[i],color = \"green\")\n",
        "      elif v_rest1[i] < -60 and v_rest2[i] < -60:\n",
        "        plt.scatter(v_rest1[i], v_rest2[i], color = \"blue\")\n",
        "\n",
        "    plt.xlabel(\"resting membrane potential of v_rest1\")\n",
        "    plt.ylabel(\"resting membrane potential of v_rest2\")\n",
        "plt.show"
      ],
      "metadata": {
        "id": "zIunO5sF7vFv",
        "outputId": "edeca1a2-b9ba-4258-d48f-e2965d13d069",
        "colab": {
          "base_uri": "https://localhost:8080/"
        }
      },
      "execution_count": 24,
      "outputs": [
        {
          "output_type": "execute_result",
          "data": {
            "text/plain": [
              "<function matplotlib.pyplot.show(close=None, block=None)>"
            ]
          },
          "metadata": {},
          "execution_count": 24
        }
      ]
    },
    {
      "cell_type": "code",
      "source": [
        "# calling vrestScatter()\n",
        "\n",
        "vrestScatter()"
      ],
      "metadata": {
        "id": "j1E7BjJR7u_T",
        "outputId": "38db3f83-9841-4091-93cc-9fa3469f6ada",
        "colab": {
          "base_uri": "https://localhost:8080/",
          "height": 280
        }
      },
      "execution_count": 25,
      "outputs": [
        {
          "output_type": "display_data",
          "data": {
            "text/plain": [
              "<Figure size 432x288 with 1 Axes>"
            ],
            "image/png": "[encoded data removed]"
          },
          "metadata": {
            "needs_background": "light"
          }
        }
      ]
    }
  ]
}