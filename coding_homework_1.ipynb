{
  "nbformat": 4,
  "nbformat_minor": 0,
  "metadata": {
    "colab": {
      "provenance": [],
      "include_colab_link": true
    },
    "kernelspec": {
      "name": "python3",
      "display_name": "Python 3"
    },
    "language_info": {
      "name": "python"
    }
  },
  "cells": [
    {
      "cell_type": "markdown",
      "metadata": {
        "id": "view-in-github",
        "colab_type": "text"
      },
      "source": [
        "<a href=\"https://colab.research.google.com/github/ChelseyCochrane/chelseys-repository/blob/main/coding_homework_1.ipynb\" target=\"_parent\"><img src=\"https://colab.research.google.com/assets/colab-badge.svg\" alt=\"Open In Colab\"/></a>"
      ]
    },
    {
      "cell_type": "markdown",
      "source": [
        "# Coding Homework #1\n",
        "\n",
        "**Instructions** (Note: it is very important you follow these instructions in order!)\n",
        "\n",
        "1. Run the first *Code Cell* below.\n",
        "\n",
        "2. Make a *Markdown Cell* that contains the following information:\n",
        "  * Your name (small header)\n",
        "  * The name of this class (italicized)\n",
        "  * The date (bolded)\n",
        "\n",
        "3. **Important!**: For each *Code Cell* that you create, make at least one line of code with a `#` in front of it that describes what your code does.\n",
        "\n",
        "4. Make a *Code Cell* that turns `v_rest1.csv` into a `Pandas DataFrame` called `pandas_data1`, and `v_rest2.csv` into a `Pandas DataFrame` called `pandas_data2`. Recall that we covered how to import `.csv` files as `Pandas DataFrames` in our in-class coding activity on January 30th. \n",
        "\n",
        "5. Make a *Code Cell* that converts `pandas_data1` into a `list` variable called `data1`, and converts `pandas_data2` into a `list` variable called `data2`. The following syntax is an example of how to do this:\n",
        "\n",
        "\n",
        "```\n",
        "data1 = pandas_data1.values.tolist()\n",
        "```\n",
        "\n",
        "6. When you convert a `Pandas DataFrame` into a `list`, it brackets each individual element - we don't want that! To get around this issue, make a *Code Cell* that flattens `data1` and `data2` using the `numpy.squeeze()` function. Your first *Code Cell* imported the `NumPy` module as `np`, so we can use the following code to flatten `data1`:\n",
        "\n",
        "\n",
        "```\n",
        "data1 = np.squeeze(data1)\n",
        "```\n",
        "&nbsp;&nbsp;&nbsp;&nbsp;&nbsp;&nbsp;&nbsp;&nbsp;&nbsp;&nbsp;Repeat this for `data2`.\n",
        "\n",
        "7. Make a *Code Cell* that prints the length of `data1`.\n",
        "\n",
        "8. Make a *Code Cell* that prints the 5th, 6th, 7th, and 8th elements of `data2`.\n",
        "\n",
        "9. Make a *Code Cell* that prints the second-to-last and last elements of `data1` (use negative indexing).\n",
        "\n",
        "10. Make a *Code Cell* that prints the `type` of `data2` by using the `type` function.\n",
        "\n",
        "11. The first *Code Cell* you ran imports a module called `matplotlib`. In a new *Code Cell*, use `matplotlib` to make a histogram of `data1`. You can use the syntax `plt.hist()` to do this (remember that the variable you are applying the function to goes inside of the parentheses). \n",
        "\n",
        "12. In a new *Code Cell*, re-make your histogram and use the `plt.xlabel()` and `plt.ylabel()` functions to label your axes.\n",
        "\n",
        "13. In a new *Code Cell*, follow the instructions in steps 11 and 12 to make another histogram with axis labels for `data2`. \n",
        "\n",
        "14. In a new *Markdown Cell*, write a brief description of any differences that you observe between your two histograms. Does one group of cells seem to have a higher/lower resting membrane potential than the other group of cells?\n",
        "\n",
        "15. In a new *Code Cell*, create a new variable called `data3`. Let `data3` be a list containing both `data1` and `data2`. \n",
        "\n",
        "16. Make a *Code Cell* that prints the last element of `data2`. You must index `data3` to do this (hint: we covered this in our in-class coding activity on February 1st).\n",
        "\n",
        "17. Save a copy of this notebook to your GitHub repo with the title \"coding_homework_1.pynb\". "
      ],
      "metadata": {
        "id": "R8xCV2iP1KZ_"
      }
    },
    {
      "cell_type": "code",
      "source": [
        "# Import matplotlib, pandas, and numpy\n",
        "\n",
        "from matplotlib import pyplot as plt\n",
        "\n",
        "import pandas as pd\n",
        "\n",
        "import numpy as np"
      ],
      "metadata": {
        "id": "48IPWJIt59-Y"
      },
      "execution_count": 4,
      "outputs": []
    },
    {
      "cell_type": "markdown",
      "source": [
        "#Chelsey Cochrane\n",
        "*Intro to Neural Data Analysis*\n",
        "\n",
        "**02/06/2023**"
      ],
      "metadata": {
        "id": "oBXQo5FWnz7u"
      }
    },
    {
      "cell_type": "code",
      "source": [
        "url1 = 'https://raw.githubusercontent.com/ChelseyCochrane/chelseys-repository/main/vrest_1.csv'\n",
        "pandas_data1 = pd.read_csv(url1)"
      ],
      "metadata": {
        "id": "3ehtatGYpAcD"
      },
      "execution_count": 6,
      "outputs": []
    },
    {
      "cell_type": "code",
      "source": [
        "url2 = 'https://raw.githubusercontent.com/ChelseyCochrane/chelseys-repository/main/vrest_2.csv'\n",
        "pandas_data2 = pd.read_csv(url2)\n"
      ],
      "metadata": {
        "id": "gdRNMnpQyhe1"
      },
      "execution_count": 7,
      "outputs": []
    },
    {
      "cell_type": "code",
      "source": [
        "data1 = pandas_data1.values.tolist()\n",
        "pandas_data1.values.tolist()"
      ],
      "metadata": {
        "id": "xZB7IR-QzHbI",
        "outputId": "fddd9ac7-4886-48ee-9837-99a044c5764a",
        "colab": {
          "base_uri": "https://localhost:8080/"
        }
      },
      "execution_count": 9,
      "outputs": [
        {
          "output_type": "execute_result",
          "data": {
            "text/plain": [
              "[[-77.65863705],\n",
              " [-75.20915451],\n",
              " [-78.21231842],\n",
              " [-77.52663269],\n",
              " [-75.55362216],\n",
              " [-69.02811356],\n",
              " [-73.838935],\n",
              " [-73.77071034],\n",
              " [-65.11337835],\n",
              " [-73.08940964],\n",
              " [-65.72109046],\n",
              " [-74.13655006]]"
            ]
          },
          "metadata": {},
          "execution_count": 9
        }
      ]
    },
    {
      "cell_type": "code",
      "source": [
        "data2 = pandas_data2.values.tolist()\n",
        "pandas_data2.values.tolist()"
      ],
      "metadata": {
        "id": "5mVKIhgFzMTr",
        "outputId": "45140487-f1f9-4ba9-cc90-9048fb0f34d1",
        "colab": {
          "base_uri": "https://localhost:8080/"
        }
      },
      "execution_count": 10,
      "outputs": [
        {
          "output_type": "execute_result",
          "data": {
            "text/plain": [
              "[[-63.18380907],\n",
              " [-72.46682231],\n",
              " [-76.15782261],\n",
              " [-71.39769363],\n",
              " [-71.77527046],\n",
              " [-82.22607751],\n",
              " [-78.58990955],\n",
              " [-67.51567459],\n",
              " [-76.35990906],\n",
              " [-62.21961975],\n",
              " [-65.13868915],\n",
              " [-74.17537371]]"
            ]
          },
          "metadata": {},
          "execution_count": 10
        }
      ]
    },
    {
      "cell_type": "code",
      "source": [
        "data1 = np.squeeze(data1)\n",
        "np.squeeze(data1)"
      ],
      "metadata": {
        "id": "iSqZ-Oa9zfj7",
        "outputId": "6b70c5d4-c0ad-4ef1-e65d-072f39ea2057",
        "colab": {
          "base_uri": "https://localhost:8080/"
        }
      },
      "execution_count": 12,
      "outputs": [
        {
          "output_type": "execute_result",
          "data": {
            "text/plain": [
              "array([-77.65863705, -75.20915451, -78.21231842, -77.52663269,\n",
              "       -75.55362216, -69.02811356, -73.838935  , -73.77071034,\n",
              "       -65.11337835, -73.08940964, -65.72109046, -74.13655006])"
            ]
          },
          "metadata": {},
          "execution_count": 12
        }
      ]
    },
    {
      "cell_type": "code",
      "source": [
        "data2 = np.squeeze(data2)\n",
        "np.squeeze(data2)"
      ],
      "metadata": {
        "id": "RU1jkOIXziVO",
        "outputId": "3958e9ce-5156-406a-f6b7-d90967e993a7",
        "colab": {
          "base_uri": "https://localhost:8080/"
        }
      },
      "execution_count": 13,
      "outputs": [
        {
          "output_type": "execute_result",
          "data": {
            "text/plain": [
              "array([-63.18380907, -72.46682231, -76.15782261, -71.39769363,\n",
              "       -71.77527046, -82.22607751, -78.58990955, -67.51567459,\n",
              "       -76.35990906, -62.21961975, -65.13868915, -74.17537371])"
            ]
          },
          "metadata": {},
          "execution_count": 13
        }
      ]
    }
  ]
}